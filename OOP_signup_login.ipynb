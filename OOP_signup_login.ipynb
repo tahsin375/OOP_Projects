{
  "nbformat": 4,
  "nbformat_minor": 0,
  "metadata": {
    "colab": {
      "provenance": [],
      "authorship_tag": "ABX9TyPHeYMdmDS7D1OeExgzUaJv",
      "include_colab_link": true
    },
    "kernelspec": {
      "name": "python3",
      "display_name": "Python 3"
    },
    "language_info": {
      "name": "python"
    }
  },
  "cells": [
    {
      "cell_type": "markdown",
      "metadata": {
        "id": "view-in-github",
        "colab_type": "text"
      },
      "source": [
        "<a href=\"https://colab.research.google.com/github/tahsin375/OOP_Projects/blob/main/OOP_signup_login.ipynb\" target=\"_parent\"><img src=\"https://colab.research.google.com/assets/colab-badge.svg\" alt=\"Open In Colab\"/></a>"
      ]
    },
    {
      "cell_type": "code",
      "execution_count": 45,
      "metadata": {
        "id": "xiLfR6A4y4Wn"
      },
      "outputs": [],
      "source": [
        "class account :\n",
        "\n",
        "  def __init__(self):\n",
        "    self.name=\" \"\n",
        "    self.email=\" \"\n",
        "    self.password=\" \"\n",
        "    self.menu()\n",
        "#-------------------------------------------------------------\n",
        "\n",
        "  def menu(self):\n",
        "      user_input=input(\"\"\"\n",
        "\n",
        "      1.enter 1 for signup\n",
        "      2.enter 2 for login\n",
        "      3.enter 3 for change password\n",
        "      4.Go to Home Page\n",
        "      \n",
        "    \"\"\")\n",
        "      \n",
        "      if user_input==\"1\":\n",
        "        #signup er method \n",
        "        self.signup()\n",
        "      elif user_input==\"2\":\n",
        "        #login er method \n",
        "        self.login()\n",
        "      elif user_input ==\"3\":\n",
        "        #change pass er method \n",
        "        self.change_pass()\n",
        "      else :\n",
        "        print(\"Home Page\") \n",
        "        self.menu() \n",
        "\n",
        "\n",
        "  def signup(self) :\n",
        "      u_name=input(\"enter your name \")\n",
        "      self.name=u_name\n",
        "      u_email=input(\"enter your mail \")\n",
        "      self.email=u_email\n",
        "      u_password=input(\"enter your password\")\n",
        "      self.password=u_password\n",
        "\n",
        "      print(\"Account signup successfully\")\n",
        "      self.menu() \n",
        "\n",
        "  def login(self) :\n",
        "    u_email=input(\"enter your mail \")\n",
        "    u_password=input(\"enter your password\")\n",
        "\n",
        "    if u_email==self.email and u_password ==self.password :\n",
        "      print(\"Login Successfully\")\n",
        "    else :\n",
        "      print(\"Invalid mail or password\")  \n",
        "     \n",
        "    self.menu()\n",
        "\n",
        "  def change_pass(self):\n",
        "    old_pass=input(\"enter your old password\") \n",
        "    if old_pass==self.password:\n",
        "      new_pass=input(\"enter your new password\")\n",
        "      self.password=new_pass\n",
        "      print(\"password update succesfully\")\n",
        "    else :\n",
        "      print(\"Invalid Old password\")     \n",
        "    self.menu()\n",
        "\n",
        "     \n",
        "                      "
      ]
    },
    {
      "cell_type": "code",
      "source": [
        "obj1=account()"
      ],
      "metadata": {
        "colab": {
          "base_uri": "https://localhost:8080/"
        },
        "id": "pbnSkE3S1R0F",
        "outputId": "c6a8281d-354b-4906-b8b6-8af0389973ff"
      },
      "execution_count": null,
      "outputs": [
        {
          "output_type": "stream",
          "name": "stdout",
          "text": [
            "\n",
            "\n",
            "      1.enter 1 for signup\n",
            "      2.enter 2 for login\n",
            "      3.enter 3 for change password\n",
            "      4.Go to Home Page\n",
            "      \n",
            "    1\n",
            "enter your name t\n",
            "enter your mail th\n",
            "enter your password1234\n",
            "Account signup successfully\n"
          ]
        }
      ]
    }
  ]
}